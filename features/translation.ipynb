{
 "cells": [
  {
   "cell_type": "code",
   "execution_count": 1,
   "metadata": {},
   "outputs": [],
   "source": [
    "import requests as r\n",
    "import json\n",
    "import re\n",
    "from collections import defaultdict\n",
    "\n",
    "class Translator_Api():\n",
    "    # https://docs.microsoft.com/en-us/azure/cognitive-services/translator/reference/v3-0-reference\n",
    "    def __init__(self):\n",
    "        self.headers = {\n",
    "                \"Ocp-Apim-Subscription-Key\":\"f90f1f0ddaae4c5ca6032bd9ce6852d3\",\n",
    "                \"Content-Type\":\"application/json\",\n",
    "                \"Ocp-Apim-Subscription-Region\":\"centralindia\"\n",
    "            }\n",
    "        self.transliterate_url = \"https://api.cognitive.microsofttranslator.com/transliterate?api-version=3.0&language=hi&fromScript=Latn&toScript=Deva\"\n",
    "        self.translate_url = \"https://api.cognitive.microsofttranslator.com/translate?api-version=3.0&to=en&from=es\"\n",
    "    \n",
    "    def get_translation(self,data):\n",
    "        if data == \"\" : return data\n",
    "        data = [{\"Text\":data}]\n",
    "        res = r.post( self.translate_url , json = data , headers = self.headers).text\n",
    "        res = json.loads(res)\n",
    "        res = [ ret['translations'][0]['text'] for ret in res ]\n",
    "        return res[0]\n",
    "        \n",
    "    def get_transliteration(self,data):\n",
    "        if data == \"\" : return data\n",
    "        data = [{\"Text\":data}]\n",
    "        res = r.post( self.transliterate_url , json = data , headers = self.headers).text\n",
    "        res = json.loads(res)\n",
    "        res = [ret['text'] for ret in res]\n",
    "        return res[0]"
   ]
  },
  {
   "cell_type": "code",
   "execution_count": 2,
   "metadata": {},
   "outputs": [],
   "source": [
    "translator = Translator_Api()"
   ]
  },
  {
   "cell_type": "code",
   "execution_count": 3,
   "metadata": {},
   "outputs": [
    {
     "data": {
      "text/plain": [
       "'Hello. I hope you have a good day.'"
      ]
     },
     "execution_count": 3,
     "metadata": {},
     "output_type": "execute_result"
    }
   ],
   "source": [
    "translator.get_translation(\"Hola. Espero que tengas un buen día\")"
   ]
  },
  {
   "cell_type": "code",
   "execution_count": null,
   "metadata": {},
   "outputs": [],
   "source": []
  }
 ],
 "metadata": {
  "kernelspec": {
   "display_name": "Python 3",
   "language": "python",
   "name": "python3"
  },
  "language_info": {
   "codemirror_mode": {
    "name": "ipython",
    "version": 3
   },
   "file_extension": ".py",
   "mimetype": "text/x-python",
   "name": "python",
   "nbconvert_exporter": "python",
   "pygments_lexer": "ipython3",
   "version": "3.8.5"
  }
 },
 "nbformat": 4,
 "nbformat_minor": 4
}

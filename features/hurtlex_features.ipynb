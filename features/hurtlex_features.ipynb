{
 "cells": [
  {
   "cell_type": "code",
   "execution_count": 95,
   "metadata": {},
   "outputs": [],
   "source": [
    "import os\n",
    "import sys\n",
    "import csv\n",
    "import re\n",
    "import numpy as np\n",
    "\n",
    "HL_VERSION = \"1.2\"\n",
    "categories = [\"ps\", \"pa\", \"ddf\", \"ddp\", \"asf\", \"pr\", \"om\", \"qas\"]\n",
    "LEN = len(categories)"
   ]
  },
  {
   "cell_type": "code",
   "execution_count": 96,
   "metadata": {},
   "outputs": [],
   "source": [
    "class HurtLexFeaturizer:\n",
    "    def __init__(self, language):\n",
    "        self.language = language\n",
    "        self.conservative_lexicon = self.read_lexicon('conservative', language)\n",
    "        self.inclusive_lexicon = self.read_lexicon('inclusive', language)\n",
    "\n",
    "    def read_lexicon(self, level, language):\n",
    "        lexicon = dict()\n",
    "        lexicon_filename = \"hurtlex_{0}.tsv\".format(self.language)\n",
    "        lexicon_path = os.path.join(\"lexica\", language, HL_VERSION, lexicon_filename)\n",
    "        with open(lexicon_path) as f:\n",
    "            reader = csv.DictReader(f, delimiter=\"\\t\")\n",
    "            for row in reader:\n",
    "                if row[\"level\"]!=level:\n",
    "                    continue\n",
    "                if not row[\"lemma\"] in lexicon:\n",
    "                    lexicon[row[\"lemma\"]] = np.zeros(2*LEN)\n",
    "                if row[\"category\"] in categories:\n",
    "                    if level == \"inclusive\":\n",
    "                        lexicon[row[\"lemma\"]][LEN + categories.index(row[\"category\"])] += 1\n",
    "                    else:\n",
    "                        lexicon[row[\"lemma\"]][categories.index(row[\"category\"])] += 1\n",
    "        return lexicon\n",
    "\n",
    "    def check_presence(self,lexicon, text):\n",
    "        final_features = np.zeros(2*LEN)\n",
    "        for k,v in lexicon.items():\n",
    "            string = r\"\\b\" + k+ r\"\\b\"\n",
    "#             print(k,string, text)\n",
    "            all_matches = re.findall(string, text)\n",
    "            for match in all_matches:\n",
    "                final_features = np.add(final_features, lexicon[match])\n",
    "        return final_features\n",
    "    \n",
    "    def process(self, text):\n",
    "        return np.add(self.check_presence(self.conservative_lexicon, text), self.check_presence(self.inclusive_lexicon, text))"
   ]
  },
  {
   "cell_type": "code",
   "execution_count": 97,
   "metadata": {},
   "outputs": [],
   "source": [
    "enHurtlex = HurtLexFeaturizer('EN')\n",
    "esHurtlex = HurtLexFeaturizer('ES')    "
   ]
  },
  {
   "cell_type": "code",
   "execution_count": 103,
   "metadata": {},
   "outputs": [],
   "source": [
    "def hurtlex_features(text, language):\n",
    "    text = text.lower()\n",
    "    text_len = len(text)\n",
    "    if language == 'en':\n",
    "        return enHurtlex.process(text)/text_len\n",
    "    elif language == 'es':\n",
    "        return esHurtlex.process(text)/text_len"
   ]
  },
  {
   "cell_type": "code",
   "execution_count": 111,
   "metadata": {},
   "outputs": [],
   "source": [
    "sample_tweet_en = \"She calls herself \"\"anti-feminazi\"\" how about shut the fucking up on your vile commentary on an elderly responsible citizen tu sach muuch ghani baawri-bewdi hai bey https://t.co/ZMxTDwsY5D\""
   ]
  },
  {
   "cell_type": "code",
   "execution_count": 112,
   "metadata": {},
   "outputs": [
    {
     "data": {
      "text/plain": [
       "array([0.        , 0.        , 0.00543478, 0.        , 0.        ,\n",
       "       0.        , 0.        , 0.        , 0.        , 0.        ,\n",
       "       0.        , 0.        , 0.        , 0.        , 0.        ,\n",
       "       0.        ])"
      ]
     },
     "execution_count": 112,
     "metadata": {},
     "output_type": "execute_result"
    }
   ],
   "source": [
    "hurtlex_features(sample_tweet_en, 'en')"
   ]
  },
  {
   "cell_type": "code",
   "execution_count": 113,
   "metadata": {},
   "outputs": [],
   "source": [
    "sample_tweet_es = \"@wakanda____ Interesante, la vieja mugre pirulina evita confrontar a otra lagartona mujer, pero con hombres se pone agresiva pirulina, será porque la ley de feminicidio que se siente huevuda con hombres y sabe nos vamos al bote fácilmente por tronarle la trompa por abusiva \""
   ]
  },
  {
   "cell_type": "code",
   "execution_count": 114,
   "metadata": {},
   "outputs": [
    {
     "data": {
      "text/plain": [
       "array([0.        , 0.        , 0.        , 0.        , 0.        ,\n",
       "       0.00364964, 0.        , 0.        , 0.        , 0.        ,\n",
       "       0.        , 0.        , 0.        , 0.        , 0.        ,\n",
       "       0.        ])"
      ]
     },
     "execution_count": 114,
     "metadata": {},
     "output_type": "execute_result"
    }
   ],
   "source": [
    "hurtlex_features(sample_tweet_es, 'es')"
   ]
  },
  {
   "cell_type": "code",
   "execution_count": null,
   "metadata": {},
   "outputs": [],
   "source": []
  }
 ],
 "metadata": {
  "kernelspec": {
   "display_name": "Python 3",
   "language": "python",
   "name": "python3"
  },
  "language_info": {
   "codemirror_mode": {
    "name": "ipython",
    "version": 3
   },
   "file_extension": ".py",
   "mimetype": "text/x-python",
   "name": "python",
   "nbconvert_exporter": "python",
   "pygments_lexer": "ipython3",
   "version": "3.8.5"
  }
 },
 "nbformat": 4,
 "nbformat_minor": 4
}
